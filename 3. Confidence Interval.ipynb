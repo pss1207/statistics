{
 "cells": [
  {
   "cell_type": "markdown",
   "id": "74173927",
   "metadata": {},
   "source": [
    "# Understanding and Implementing Confidence Intervals"
   ]
  },
  {
   "cell_type": "markdown",
   "id": "7cd1611a",
   "metadata": {},
   "source": [
    "## 1. Definition and Importance\n",
    "\n",
    "A confidence interval (CI) is a range of values, derived from sample data, that is likely to contain the value of an unknown population parameter. It is a fundamental concept in inferential statistics, allowing us to quantify the uncertainty associated with a sample estimate.\n",
    "\n",
    "> **Example**: Instead of just providing a single number (a point estimate, like the sample mean), a confidence interval gives us a range. Rather than saying \"the average height of students is 175 cm,\" we might say \"we are 95% confident that the true average height of all students is between 172 cm and 178 cm.\""
   ]
  },
  {
   "cell_type": "markdown",
   "id": "b4058e4d",
   "metadata": {},
   "source": [
    "### Key Components\n",
    "\n",
    "1. **Point Estimate**\n",
    "   - The best guess for the population parameter\n",
    "   - Example: The sample mean (x̄) is the point estimate for the population mean (μ)\n",
    "\n",
    "2. **Confidence Level**\n",
    "   - The probability that the interval will contain the true population parameter\n",
    "   - Commonly expressed as percentages: 90%, 95%, 99%\n",
    "   - Example: A 95% confidence level means that if we repeat the sampling process 100 times, approximately 95 of the calculated intervals would contain the true population parameter\n",
    "\n",
    "3. **Margin of Error**\n",
    "   - The range added/subtracted from the point estimate\n",
    "   - Represents the uncertainty in our estimate\n",
    "   - Smaller margin = More precise estimate"
   ]
  },
  {
   "cell_type": "markdown",
   "id": "3b37cf71",
   "metadata": {},
   "source": [
    "### Why are they important?\n",
    "\n",
    "Confidence intervals are crucial because they:\n",
    "- Acknowledge and quantify sampling error\n",
    "- Provide more realistic assessment than point estimates\n",
    "- Help communicate reliability in:\n",
    "  - Scientific research\n",
    "  - Business analytics\n",
    "  - Data analysis\n",
    "  - Statistical inference"
   ]
  },
  {
   "cell_type": "markdown",
   "id": "4f4774fb",
   "metadata": {},
   "source": [
    "## 2. A Practical Example: Calculating a CI for a Mean\n",
    "\n",
    "Let's work through a real-world healthcare scenario: estimating the average resting heart rate in healthy adults.\n",
    "\n",
    "**Problem Statement:**\n",
    "- Goal: Estimate the true average resting heart rate\n",
    "- Challenge: Can't measure every person's heart rate\n",
    "- Solution: Take a random sample of 30 adults"
   ]
  },
  {
   "cell_type": "markdown",
   "id": "0d565ecc",
   "metadata": {},
   "source": [
    "### Sample Data and Calculations\n",
    "\n",
    "**Sample Data (beats per minute):**\n",
    "```\n",
    "[72, 68, 75, 70, 73, 65, 71, 69, 74, 67, \n",
    " 70, 72, 76, 69, 71, 68, 73, 70, 72, 66, \n",
    " 75, 71, 69, 73, 70, 74, 68, 72, 71, 69]\n",
    "```\n",
    "\n",
    "#### Goal: Calculate 95% Confidence Interval\n",
    "\n",
    "**Formula:**\n",
    "$$ CI = \\bar{x} \\pm t \\cdot \\frac{s}{\\sqrt{n}} $$\n",
    "\n",
    "Where:\n",
    "| Symbol | Meaning |\n",
    "|--------|---------|\n",
    "| $\\bar{x}$ | Sample mean |\n",
    "| $t$ | t-critical value |\n",
    "| $s$ | Sample standard deviation |\n",
    "| $n$ | Sample size |\n",
    "\n",
    "#### Step-by-Step Solution:\n",
    "\n",
    "1. **Calculate Sample Mean ($\\bar{x}$)**\n",
    "   - Sum all heart rates ÷ number of participants (30)\n",
    "   - Result: 70.77 bpm\n",
    "\n",
    "2. **Calculate Sample Standard Deviation ($s$)**\n",
    "   - Measures data dispersion\n",
    "   - Result: 2.71 bpm\n",
    "\n",
    "3. **Sample Size ($n$)**\n",
    "   - Number of participants: 30\n",
    "\n",
    "4. **Find t-critical value ($t$)**\n",
    "   - Confidence level: 95% → α = 0.05\n",
    "   - Degrees of freedom: df = n - 1 = 29\n",
    "   - t-critical value ≈ 2.045\n",
    "\n",
    "5. **Calculate Standard Error of the Mean (SEM)**\n",
    "   $$ SEM = \\frac{s}{\\sqrt{n}} = \\frac{2.71}{\\sqrt{30}} \\approx 0.50 \\text{ bpm} $$\n",
    "\n",
    "6. **Calculate Margin of Error**\n",
    "   $$ ME = t \\cdot SEM = 2.045 \\cdot 0.50 \\approx 1.02 \\text{ bpm} $$\n",
    "\n",
    "7. **Construct the Interval**\n",
    "   - Lower bound = 70.77 - 1.02 = 69.75 bpm\n",
    "   - Upper bound = 70.77 + 1.02 = 71.78 bpm\n",
    "\n",
    "#### Conclusion\n",
    "We are 95% confident that the true average resting heart rate in this population lies between **69.75** and **71.78** beats per minute."
   ]
  },
  {
   "cell_type": "markdown",
   "id": "48336243",
   "metadata": {},
   "source": [
    "## 3. Python Implementation"
   ]
  },
  {
   "cell_type": "code",
   "execution_count": 14,
   "id": "f18a63d4",
   "metadata": {},
   "outputs": [
    {
     "name": "stdout",
     "output_type": "stream",
     "text": [
      "Sample Mean: 70.77 bpm\n",
      "Sample Standard Deviation: 2.71 bpm\n",
      "Standard Error of the Mean: 0.50 bpm\n",
      "\n",
      "95.0% Confidence Interval: (69.75, 71.78) bpm\n"
     ]
    }
   ],
   "source": [
    "import numpy as np\n",
    "from scipy import stats\n",
    "\n",
    "# Sample data (heart rates in beats per minute)\n",
    "data = np.array([72, 68, 75, 70, 73, 65, 71, 69, 74, 67, \n",
    "                 70, 72, 76, 69, 71, 68, 73, 70, 72, 66,\n",
    "                 75, 71, 69, 73, 70, 74, 68, 72, 71, 69])\n",
    "\n",
    "# Define confidence level\n",
    "confidence_level = 0.95\n",
    "\n",
    "# Calculate sample statistics\n",
    "n = len(data)\n",
    "sample_mean = np.mean(data)\n",
    "sample_std = np.std(data, ddof=1)  # ddof=1 for sample standard deviation\n",
    "\n",
    "# Calculate standard error of the mean\n",
    "sem = sample_std / np.sqrt(n)\n",
    "\n",
    "# Calculate the confidence interval using the t-distribution\n",
    "# stats.t.interval(confidence_level, degrees_of_freedom, loc=sample_mean, scale=standard_error)\n",
    "confidence_interval = stats.t.interval(confidence_level, \n",
    "                                     df=n-1, \n",
    "                                     loc=sample_mean, \n",
    "                                     scale=sem)\n",
    "\n",
    "print(f\"Sample Mean: {sample_mean:.2f} bpm\")\n",
    "print(f\"Sample Standard Deviation: {sample_std:.2f} bpm\")\n",
    "print(f\"Standard Error of the Mean: {sem:.2f} bpm\")\n",
    "print(f\"\\n{confidence_level*100}% Confidence Interval: ({confidence_interval[0]:.2f}, {confidence_interval[1]:.2f}) bpm\")"
   ]
  },
  {
   "cell_type": "markdown",
   "id": "3d196721",
   "metadata": {},
   "source": [
    "## 4. Visualization\n",
    "\n",
    "Visualizing confidence intervals helps in better understanding and communicating statistical results. Let's create a bar chart with error bars that shows:\n",
    "\n",
    "- Central bar: Mean resting heart rate\n",
    "- Error bars: Margin of error\n",
    "- Annotations: Exact values for mean and interval bounds"
   ]
  },
  {
   "cell_type": "code",
   "execution_count": 15,
   "id": "cb50f094",
   "metadata": {},
   "outputs": [
    {
     "data": {
      "image/png": "[encoded data removed]",
      "text/plain": [
       "<Figure size 800x600 with 1 Axes>"
      ]
     },
     "metadata": {},
     "output_type": "display_data"
    }
   ],
   "source": [
    "import matplotlib.pyplot as plt\n",
    "import seaborn as sns\n",
    "\n",
    "# --- Visualization Setup ---\n",
    "sns.set_style(\"whitegrid\")\n",
    "fig, ax = plt.subplots(figsize=(8, 6))\n",
    "\n",
    "# Calculate margin of error from the interval\n",
    "margin_of_error = (confidence_interval[1] - confidence_interval[0]) / 2\n",
    "\n",
    "# Create the bar plot with error bars\n",
    "ax.bar('Sample Heart Rate', sample_mean, \n",
    "       yerr=margin_of_error, \n",
    "       color=sns.color_palette('pastel')[1],  # Using a different color for heart rate\n",
    "       ecolor='gray',  # Error bar color\n",
    "       capsize=10,     # Add caps to the error bars\n",
    "       width=0.4,\n",
    "       edgecolor='black')\n",
    "\n",
    "# --- Aesthetics and Labels ---\n",
    "ax.set_ylabel('Heart Rate (beats per minute)', fontsize=12)\n",
    "ax.set_title('95% Confidence Interval for Average Resting Heart Rate', fontsize=15, pad=20)\n",
    "ax.set_ylim(65, 75)  # Set y-axis limits to better focus on the interval\n",
    "\n",
    "# Annotate the point estimate and the interval bounds\n",
    "plt.text(0, sample_mean + 0.5, f\"Mean = {sample_mean:.2f} bpm\", ha='center', va='bottom', fontsize=11, color='black')\n",
    "plt.text(0, confidence_interval[1], f\"Upper = {confidence_interval[1]:.2f} bpm\", ha='center', va='bottom', fontsize=10, color='darkred')\n",
    "plt.text(0, confidence_interval[0], f\"Lower = {confidence_interval[0]:.2f} bpm\", ha='center', va='top', fontsize=10, color='darkblue')\n",
    "\n",
    "plt.show()"
   ]
  },
  {
   "cell_type": "code",
   "execution_count": null,
   "id": "7323c516",
   "metadata": {},
   "outputs": [],
   "source": []
  }
 ],
 "metadata": {
  "kernelspec": {
   "display_name": ".venv",
   "language": "python",
   "name": "python3"
  },
  "language_info": {
   "codemirror_mode": {
    "name": "ipython",
    "version": 3
   },
   "file_extension": ".py",
   "mimetype": "text/x-python",
   "name": "python",
   "nbconvert_exporter": "python",
   "pygments_lexer": "ipython3",
   "version": "3.12.6"
  }
 },
 "nbformat": 4,
 "nbformat_minor": 5
}
