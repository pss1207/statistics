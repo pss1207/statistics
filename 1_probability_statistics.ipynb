{
 "cells": [
  {
   "cell_type": "markdown",
   "id": "096162c1",
   "metadata": {},
   "source": [
    "# Probability vs. Statistics\n",
    "\n",
    "Probability and statistics are related but distinct branches of mathematics that deal with uncertainty and data in different ways.\n",
    "\n",
    "## Key Differences\n",
    "\n",
    "| Aspect           | Probability                                    | Statistics                                        |\n",
    "|------------------|------------------------------------------------|---------------------------------------------------|\n",
    "| Starting Point   | Known model/distribution                       | Observed data                                     |\n",
    "| Main Goal        | Predict likelihood of future events             | Infer properties of the population/process        |\n",
    "| Typical Question | \"Given a fair die, what is the chance of rolling a 6?\" | \"Given these rolls, is the die fair?\"             |\n",
    "| Direction        | Model → Data                                   | Data → Model                                      |\n",
    "\n",
    "- **Probability**: Starts with a known model and predicts the chances of future outcomes.\n",
    "- **Statistics**: Starts with observed data and infers the underlying model or process.\n",
    "\n",
    "> *Probability is starting with an animal and figuring out what footprints it will make. Statistics is seeing a footprint and guessing the animal.*\n",
    "\n",
    "\n",
    "\n"
   ]
  },
  {
   "cell_type": "markdown",
   "id": "82270c76",
   "metadata": {},
   "source": [
    "\n",
    "## Python Code Examples\n",
    "\n",
    "### Example 1: Probability\n",
    "\n",
    "Suppose you have a fair six-sided die. What is the probability of rolling a 6?"
   ]
  },
  {
   "cell_type": "code",
   "execution_count": 7,
   "id": "332d4183",
   "metadata": {},
   "outputs": [
    {
     "name": "stdout",
     "output_type": "stream",
     "text": [
      "Probability of rolling a 6: 0.16666666666666666\n"
     ]
    }
   ],
   "source": [
    "# Probability of rolling a 6 on a fair die\n",
    "num_outcomes = 6\n",
    "favorable_outcome = 1\n",
    "probability = favorable_outcome / num_outcomes\n",
    "print(f\"Probability of rolling a 6: {probability}\")"
   ]
  },
  {
   "cell_type": "markdown",
   "id": "b7bccafc",
   "metadata": {},
   "source": [
    "### Example 2: Statistics\n",
    "\n",
    "Suppose you roll a die 10 times and observe the results. You want to estimate the probability that the die lands on 6 (i.e., infer if the die is fair)."
   ]
  },
  {
   "cell_type": "code",
   "execution_count": 8,
   "id": "863bbc4b",
   "metadata": {},
   "outputs": [
    {
     "name": "stdout",
     "output_type": "stream",
     "text": [
      "Estimated probability of rolling a 6: 0.4\n"
     ]
    }
   ],
   "source": [
    "import numpy as np\n",
    "\n",
    "# Observed  results of 10 die rolls\n",
    "rolls = np.array([2, 6, 3, 1, 6, 4, 2, 6, 5, 6])\n",
    "\n",
    "# Estimate the probability of rolling a 6\n",
    "count_six = np.sum(rolls == 6)\n",
    "total_rolls = len(rolls)\n",
    "estimated_probability = count_six / total_rolls\n",
    "print(f\"Estimated probability of rolling a 6: {estimated_probability}\")"
   ]
  },
  {
   "cell_type": "markdown",
   "id": "df36cea6",
   "metadata": {},
   "source": [
    "\n",
    "## Summary\n",
    "\n",
    "- **Probability** uses known models to predict outcomes.\n",
    "- **Statistics** uses observed data to infer models or parameters.\n",
    "\n"
   ]
  },
  {
   "cell_type": "markdown",
   "id": "9e02671a",
   "metadata": {},
   "source": []
  }
 ],
 "metadata": {
  "kernelspec": {
   "display_name": ".venv",
   "language": "python",
   "name": "python3"
  },
  "language_info": {
   "codemirror_mode": {
    "name": "ipython",
    "version": 3
   },
   "file_extension": ".py",
   "mimetype": "text/x-python",
   "name": "python",
   "nbconvert_exporter": "python",
   "pygments_lexer": "ipython3",
   "version": "3.12.6"
  }
 },
 "nbformat": 4,
 "nbformat_minor": 5
}
